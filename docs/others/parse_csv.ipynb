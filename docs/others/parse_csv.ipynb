{
  "cells": [
    {
      "cell_type": "raw",
      "metadata": {},
      "source": [
        "---\n",
        "title: Parsing CSVs\n",
        "date: '2022-09-17T11:20:46+0800'\n",
        "format:\n",
        "  html:\n",
        "    self-contained: true\n",
        "---"
      ],
      "id": "a9ba0d8d"
    },
    {
      "cell_type": "code",
      "metadata": {},
      "source": [
        "import pandas as pd\n",
        "from datetime import datetime\n",
        "from IPython.display import display, Markdown, Latex"
      ],
      "id": "68ca6dde",
      "execution_count": null,
      "outputs": []
    },
    {
      "cell_type": "code",
      "metadata": {},
      "source": [
        "df = pd.read_csv(\"https://docs.google.com/spreadsheets/d/e/2PACX-1vTCthsmMlLvDTBcZA_7KqQ1cTbuRgcIzoof-FMRdMwaQ0vCArwDecwVDPrTGB2A8MDd2CHNzQw6KtpW/pub?gid=1890379088&single=true&output=csv\")\n",
        "df.head()"
      ],
      "id": "c2b22c35",
      "execution_count": null,
      "outputs": []
    },
    {
      "cell_type": "markdown",
      "metadata": {},
      "source": [
        "```python\n",
        "# Print Markdown\n",
        "display(Markdown(df[\"Remarks\"][0]))\n",
        "```\n",
        "\n",
        "Data Sanitation and Conversions\n"
      ],
      "id": "3ad69e28"
    },
    {
      "cell_type": "code",
      "metadata": {},
      "source": [
        "df[\"Entry Timestamp\"] = pd.to_datetime(df[\"Entry Timestamp\"])\n",
        "df[\"Timestamp\"] = pd.to_datetime(df[\"Timestamp\"])"
      ],
      "id": "d40e1cfb",
      "execution_count": null,
      "outputs": []
    },
    {
      "cell_type": "code",
      "metadata": {},
      "source": [
        "def listify_text(txt):\n",
        "  \"\"\"Transform comma-separated text string to list\"\"\"\n",
        "  # Remove redundant white space and split by comma\n",
        "  txt = \" \".join(txt.split()).lower().strip().split(\",\")  \n",
        "\n",
        "  # Initialize placeholder list\n",
        "  lst = []\n",
        "  for item in txt:\n",
        "    # Remove extra white space\n",
        "    item = \" \".join(item.split()).strip()\n",
        "    # save to temp list\n",
        "    lst.append(item)\n",
        "  return lst"
      ],
      "id": "0e607356",
      "execution_count": null,
      "outputs": []
    },
    {
      "cell_type": "code",
      "metadata": {},
      "source": [
        "# Transform \"Activities\" strings to proper lists\n",
        "df_lst = []\n",
        "for acts in df[\"Activities\"]:\n",
        "  acts = listify_text(acts)\n",
        "  df_lst.append(acts)\n",
        "df[\"Activities\"] = df_lst\n",
        "df_lst = []"
      ],
      "id": "0df75ccb",
      "execution_count": null,
      "outputs": []
    },
    {
      "cell_type": "code",
      "metadata": {},
      "source": [
        "# Transform \"Weather\" strings to proper lists\n",
        "df_lst = []\n",
        "for weather in df[\"Weather\"]:\n",
        "  weather = listify_text(weather)\n",
        "  df_lst.append(weather)\n",
        "df[\"Weather\"] = df_lst\n",
        "df_lst = []"
      ],
      "id": "9388908b",
      "execution_count": null,
      "outputs": []
    },
    {
      "cell_type": "code",
      "metadata": {},
      "source": [
        "# df[\"Remarks\"][1] \n",
        "df"
      ],
      "id": "32fdbbc3",
      "execution_count": null,
      "outputs": []
    },
    {
      "cell_type": "markdown",
      "metadata": {},
      "source": [
        "Date Field\n"
      ],
      "id": "f2848782"
    },
    {
      "cell_type": "code",
      "metadata": {},
      "source": [
        "dates = []\n",
        "for dt in df[\"Entry Timestamp\"]:\n",
        "  dates.append(dt.date())\n",
        "df[\"Date\"] = dates"
      ],
      "id": "70b5d9ea",
      "execution_count": null,
      "outputs": []
    },
    {
      "cell_type": "markdown",
      "metadata": {},
      "source": [
        "Time Field\n"
      ],
      "id": "ea325f42"
    },
    {
      "cell_type": "code",
      "metadata": {},
      "source": [
        "times = []\n",
        "for dt in df[\"Entry Timestamp\"]:\n",
        "  times.append(dt.time())\n",
        "df[\"Time\"] = times"
      ],
      "id": "e01a79bd",
      "execution_count": null,
      "outputs": []
    },
    {
      "cell_type": "markdown",
      "metadata": {},
      "source": [
        "Hour Field\n"
      ],
      "id": "f399caaa"
    },
    {
      "cell_type": "code",
      "metadata": {},
      "source": [
        "hrs = []\n",
        "for dt in df[\"Entry Timestamp\"]:\n",
        "  hrs.append(dt.hour+(dt.minute/60))\n",
        "df[\"Hour\"] = hrs"
      ],
      "id": "68ae11b8",
      "execution_count": null,
      "outputs": []
    },
    {
      "cell_type": "code",
      "metadata": {},
      "source": [
        "days = []\n",
        "for dt in df[\"Entry Timestamp\"]:\n",
        "  weekday = dt.isoweekday()\n",
        "  if weekday == 1:\n",
        "    days.append(\"Mon\")\n",
        "  elif weekday == 2:\n",
        "    days.append(\"Tue\")\n",
        "  elif weekday == 3:\n",
        "    days.append(\"Wed\")\n",
        "  elif weekday == 4:\n",
        "    days.append(\"Thu\")\n",
        "  elif weekday == 5:\n",
        "    days.append(\"Fri\")\n",
        "  elif weekday == 6:\n",
        "    days.append(\"Sat\")\n",
        "  elif weekday == 7:\n",
        "    days.append(\"Sun\")\n",
        "df[\"Weekday\"] = days"
      ],
      "id": "91dc358a",
      "execution_count": null,
      "outputs": []
    },
    {
      "cell_type": "code",
      "metadata": {},
      "source": [
        "df[\"Mood\"] = ((df[\"Morale\"] - 4) * 10)"
      ],
      "id": "dfc7f9e7",
      "execution_count": null,
      "outputs": []
    },
    {
      "cell_type": "code",
      "metadata": {},
      "source": [
        "df"
      ],
      "id": "0eb56bcb",
      "execution_count": null,
      "outputs": []
    }
  ],
  "metadata": {
    "kernelspec": {
      "name": "python3",
      "language": "python",
      "display_name": "Python 3 (ipykernel)"
    }
  },
  "nbformat": 4,
  "nbformat_minor": 5
}