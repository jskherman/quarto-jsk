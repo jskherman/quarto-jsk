{
 "cells": [
  {
   "cell_type": "code",
   "metadata": {
    "cell_id": "d51424ac9b0c478db4ad6d474f211a02",
    "tags": [],
    "deepnote_to_be_reexecuted": false,
    "source_hash": "ede6652a",
    "execution_start": 1663852542802,
    "execution_millis": 2391,
    "deepnote_cell_type": "code",
    "deepnote_cell_height": 220
   },
   "source": "# Import modules\nimport moviepy.editor as mp  # Import video converter\nimport whisper               # Import audio transcription AI\nimport base64                # Base64 Decoder\nimport os\nimport requests\nimport urllib\nfrom urllib.parse import unquote\n# from urllib.parse import urlparse",
   "execution_count": 1,
   "outputs": []
  },
  {
   "cell_type": "code",
   "metadata": {
    "cell_id": "62fdde9710fc4448a50a28b5f2d31eb2",
    "tags": [],
    "deepnote_to_be_reexecuted": false,
    "source_hash": "3d08d1ae",
    "execution_start": 1663852545199,
    "execution_millis": 3,
    "deepnote_cell_type": "code",
    "deepnote_cell_height": 801,
    "deepnote_output_heights": [
     null,
     20.1875
    ]
   },
   "source": "def create_onedrive_directdownload(onedrive_link):\n    data_bytes64 = base64.b64encode(bytes(onedrive_link, 'utf-8'))\n    data_bytes64_String = data_bytes64.decode('utf-8').replace('/','_').replace('+','-').rstrip(\"=\")\n    resultUrl = f\"https://api.onedrive.com/v1.0/shares/u!{data_bytes64_String}/root/content\"\n    return resultUrl\n\ndef get_link_file_size(direct_file_link):\n    req = urllib.request.Request(direct_file_link, method='HEAD')\n    f   = urllib.request.urlopen(req)\n    if f.status == 200:\n        file_size = float(f.headers['Content-Length'])\n        file_size = (file_size * (1024**(-2))) # Change from bytes to gigabytes\n    else:\n        file_size = None\n    return file_size\n\ndef download(url: str, dest_folder: str, onedrive=False):\n    if not os.path.exists(dest_folder):\n        os.makedirs(dest_folder)  # create folder if it does not exist\n\n    if onedrive != False:\n        req = urllib.request.Request(url, method='HEAD')\n        f   = urllib.request.urlopen(req)\n        filename = unquote((f.headers['Content-Disposition'].split(\"''\"))[-1])\n    else:\n        filename = url.split('/')[-1].replace(\" \", \"_\")  # be careful with file names\n    filename = filename.split('?')[0]\n    file_path = os.path.join(dest_folder, filename)\n\n    r = requests.get(url, stream=True)\n    if r.ok:\n        print(\"saving to\", os.path.abspath(file_path))\n        with open(file_path, 'wb') as f:\n            for chunk in r.iter_content(chunk_size=1024 * 8):\n                if chunk:\n                    f.write(chunk)\n                    f.flush()\n                    os.fsync(f.fileno())\n    else:  # HTTP status code 4XX/5XX\n        print(\"Download failed: status code {}\\n{}\".format(r.status_code, r.text))\n    return file_path",
   "execution_count": 2,
   "outputs": []
  },
  {
   "cell_type": "code",
   "metadata": {
    "cell_id": "83d546ea94104f49aaa6cc0880f8c50d",
    "tags": [],
    "deepnote_to_be_reexecuted": false,
    "source_hash": "cbeb33ab",
    "execution_start": 1663852545209,
    "execution_millis": 22588,
    "deepnote_cell_type": "code",
    "deepnote_cell_height": 566,
    "deepnote_output_heights": [
     20.1875
    ]
   },
   "source": "onedrive = input(\"Is the file shared on OneDrive? y / n: \")\n\nif onedrive.strip().lower() != \"n\" or \"no\" or \"false\":\n    shared_link = input(\"What's the shared OneDrive link to the file? \")\n    work_file_link = create_onedrive_directdownload(shared_link)\n    work_file_size = get_link_file_size(work_file_link)\n    if not (work_file_size < 4269):\n        print(\"File size too big! Terminating operation...\")\n        del work_file\n    else:\n        work_file = download(work_file_link, \"save\", True)\nelse:\n    work_file = input(\"What's the name of the file to be transcribed? \")\n\nif work_file.split(\".\")[-1] == \"mp4\" or \"mov\" or \"flv\" or \"mkv\" or \"wmv\" or \"webm\" or \"avi\":\n    # Python code to convert video to audio\n    ## Create name for output audio file\n    audio_file = f\"{work_file[:-4]}.mp3\"\n\n    ## Insert Local Video File Path\n    clip = mp.VideoFileClip(work_file)\n\n    # Insert Local Audio File Path\n    clip.audio.write_audiofile(audio_file)",
   "execution_count": 3,
   "outputs": [
    {
     "name": "stdout",
     "text": "saving to /work/save/Feeling Like Youre Never Enough.mp4\nMoviePy - Writing audio in save/Feeling Like Youre Never Enough.mp3\n                                                                      MoviePy - Done.\n",
     "output_type": "stream"
    }
   ]
  },
  {
   "cell_type": "code",
   "metadata": {
    "tags": [],
    "cell_id": "e95bdf01-72ee-422f-b885-72b242ff8c6f",
    "deepnote_to_be_reexecuted": false,
    "source_hash": "a12a0630",
    "execution_start": 1663852567839,
    "execution_millis": 263455,
    "deepnote_cell_type": "code",
    "deepnote_cell_height": 344.3125,
    "deepnote_output_heights": [
     605.328125,
     605.328125
    ]
   },
   "source": "# Transcribe audio file\nmodel = whisper.load_model(\"base\")\naudio = whisper.load_audio(audio_file)\nresult = model.transcribe(audio_file)",
   "execution_count": 4,
   "outputs": [
    {
     "name": "stderr",
     "text": "2022-09-22 13:16:13.277820: I tensorflow/core/platform/cpu_feature_guard.cc:193] This TensorFlow binary is optimized with oneAPI Deep Neural Network Library (oneDNN) to use the following CPU instructions in performance-critical operations:  AVX2 AVX512F AVX512_VNNI FMA\nTo enable them in other operations, rebuild TensorFlow with the appropriate compiler flags.\n2022-09-22 13:16:13.466526: I tensorflow/core/util/util.cc:169] oneDNN custom operations are on. You may see slightly different numerical results due to floating-point round-off errors from different computation orders. To turn them off, set the environment variable `TF_ENABLE_ONEDNN_OPTS=0`.\n2022-09-22 13:16:13.470618: W tensorflow/stream_executor/platform/default/dso_loader.cc:64] Could not load dynamic library 'libcudart.so.11.0'; dlerror: libcudart.so.11.0: cannot open shared object file: No such file or directory\n2022-09-22 13:16:13.470633: I tensorflow/stream_executor/cuda/cudart_stub.cc:29] Ignore above cudart dlerror if you do not have a GPU set up on your machine.\n2022-09-22 13:16:13.491848: E tensorflow/stream_executor/cuda/cuda_blas.cc:2981] Unable to register cuBLAS factory: Attempting to register factory for plugin cuBLAS when one has already been registered\n2022-09-22 13:16:15.520154: W tensorflow/stream_executor/platform/default/dso_loader.cc:64] Could not load dynamic library 'libnvinfer.so.7'; dlerror: libnvinfer.so.7: cannot open shared object file: No such file or directory\n2022-09-22 13:16:15.520218: W tensorflow/stream_executor/platform/default/dso_loader.cc:64] Could not load dynamic library 'libnvinfer_plugin.so.7'; dlerror: libnvinfer_plugin.so.7: cannot open shared object file: No such file or directory\n2022-09-22 13:16:15.520228: W tensorflow/compiler/tf2tensorrt/utils/py_utils.cc:38] TF-TRT Warning: Cannot dlopen some TensorRT libraries. If you would like to use Nvidia GPU with TensorRT, please make sure the missing libraries mentioned above are installed properly.\nDetected language: english\n",
     "output_type": "stream"
    }
   ]
  },
  {
   "cell_type": "code",
   "source": "# Write transcript to plain text file\nwith open(f\"{work_file}.txt\", 'w') as transcript:\n    transcript.write(result[\"text\"])\n    transcript.close()\n\n# Write vtt subtitle file\nsubtitle = \"\"\nsubtitle = \"WEBVTT\\n\\n\"\n\nfor segment in result[\"segments\"]:\n    # Get seconds in hours (whole number only) and pad with zeros\n    start_hr = ((str(segment[\"start\"]/3600).split(\".\")[0]).zfill(2))\n    end_hr = ((str(segment[\"end\"]/3600).split(\".\")[0]).zfill(2))\n    \n    # Get seconds in minutes (whole number only) and pad with zeros\n    start_min = ((str(segment[\"start\"]/60).split(\".\")[0]).zfill(2)) \n    end_min = ((str(segment[\"end\"]/60).split(\".\")[0]).zfill(2))\n\n    # Get remainder seconds up to 3 decimal places\n    start_sec = str(\"%.3f\"%(segment[\"start\"] % 60))\n    end_sec   = str(\"%.3f\"%(segment[\"end\"] % 60))\n\n    segment_text = segment[\"text\"]\n    subtitle = subtitle + f\"{start_hr}:{start_min}:{start_sec} --> {end_hr}:{end_min}:{end_sec}\\n{segment_text}\\n\\n\"\n\nwith open(f\"{work_file}.vtt\", 'w') as fsub:\n    fsub.write(subtitle)\n    fsub.close()\n",
   "metadata": {
    "cell_id": "54b15ceb2e204254bfe4230212a31cc1",
    "tags": [],
    "deepnote_to_be_reexecuted": false,
    "source_hash": "dab231c5",
    "execution_start": 1663852980370,
    "execution_millis": 0,
    "deepnote_cell_type": "code",
    "deepnote_cell_height": 585,
    "deepnote_output_heights": [
     605.328125,
     605.328125
    ]
   },
   "outputs": [],
   "execution_count": null
  },
  {
   "cell_type": "code",
   "metadata": {
    "cell_id": "d25033f3d5464f0eaecb1dfe69adcfce",
    "tags": [],
    "deepnote_to_be_reexecuted": false,
    "source_hash": "814c3acf",
    "execution_start": 1663852983575,
    "execution_millis": 1,
    "deepnote_cell_type": "code",
    "deepnote_cell_height": 148
   },
   "source": "# Clean up video/audio files used in OneDrive\nif onedrive.strip().lower() != \"n\" or \"no\" or \"false\":\n    for wfile in [work_file, audio_file]:\n        if os.path.isfile(wfile):\n            os.remove(wfile)",
   "execution_count": 8,
   "outputs": []
  },
  {
   "cell_type": "markdown",
   "source": "<a style='text-decoration:none;line-height:16px;display:flex;color:#5B5B62;padding:10px;justify-content:end;' href='https://deepnote.com?utm_source=created-in-deepnote-cell&projectId=847d9e76-bbe2-432e-a3ee-480739ce897b' target=\"_blank\">\n<img alt='Created in deepnote.com' style='display:inline;max-height:16px;margin:0px;margin-right:7.5px;' src='data:image/svg+xml;base64,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' > </img>\nCreated in <span style='font-weight:600;margin-left:4px;'>Deepnote</span></a>",
   "metadata": {
    "tags": [],
    "created_in_deepnote_cell": true,
    "deepnote_cell_type": "markdown"
   }
  }
 ],
 "nbformat": 4,
 "nbformat_minor": 2,
 "metadata": {
  "orig_nbformat": 2,
  "deepnote": {},
  "deepnote_notebook_id": "f06f78b7-5def-4186-99e2-87ff3b827a90",
  "deepnote_execution_queue": []
 }
}